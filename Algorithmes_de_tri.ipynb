{
 "cells": [
  {
   "cell_type": "markdown",
   "metadata": {},
   "source": [
    "# Introduction\n",
    "\n",
    "Un des éléments de base de l'algorithmique — et donc de la programmation — est l'étude et l'utilisation d'algorithmes de tri.\n",
    "\n",
    "Dans toute la suite, on considère une liste de taille $n$ *strictement positive.*\n",
    "\n",
    "On utilisera le fonction `randint` du module `random` afin de générer des listes aléatoires :"
   ]
  },
  {
   "cell_type": "code",
   "execution_count": 4,
   "metadata": {
    "collapsed": true
   },
   "outputs": [],
   "source": [
    "from random import randint"
   ]
  },
  {
   "cell_type": "markdown",
   "metadata": {},
   "source": [
    "# Tri par sélection\n",
    "\n",
    "Le principe est le suivant : on parcourt la liste une première fois en entier, en sélectionnant son plus grand élément pour l'échanger avec son dernier élément. Ainsi, à la fin du premier passage, la liste a son plus grand élément à la fin.\n",
    "\n",
    "Ensuite, on itère le procédé sur la liste composée des $n-1$ premiers éléments de la liste initiale, et on recommence... forcément, on tombe à un moment sur la liste composé uniquement du premier élément de la liste, et on s'arrête là."
   ]
  },
  {
   "cell_type": "code",
   "execution_count": 5,
   "metadata": {
    "collapsed": true
   },
   "outputs": [],
   "source": [
    "def selec_tri(v):\n",
    "    n = len(v)\n",
    "    if n>1:\n",
    "        i_max = 0\n",
    "        for i in range(n):\n",
    "            if v[i]>v[i_max]:\n",
    "                i_max = i\n",
    "        v[-1],v[i_max] = v[i_max],v[-1]\n",
    "        \n",
    "        l = v[:-1] ## permet d'éviter les problèmes d'adressage des listes en Python\n",
    "        selec_tri(l) ## on trie la liste des n-1 premiers éléments\n",
    "        v[:-1] = l ## on remplace les n-1 premiers éléments par leur liste triée"
   ]
  },
  {
   "cell_type": "markdown",
   "metadata": {},
   "source": [
    "On peut donc essayer notre fonction `selec_tri` sur une liste générée au hasard : exécutez plusieurs fois la cellule suivante pour générer une liste aléatoire de 25 nombres entre -50 et 50, l'afficher, et la trier."
   ]
  },
  {
   "cell_type": "code",
   "execution_count": 6,
   "metadata": {
    "collapsed": false,
    "scrolled": true
   },
   "outputs": [
    {
     "name": "stdout",
     "output_type": "stream",
     "text": [
      "Taille n de la liste : 20\n",
      "Liste initiale : \n",
      " [-148, 176, -5, -238, -168, 41, 4, -127, -142, -107, 164, 164, 106, 94, 157, -38, -52, -75, -223, -142]\n",
      "[-238, -223, -168, -148, -142, -142, -127, -107, -75, -52, -38, -5, 4, 41, 94, 106, 157, 164, 164, 176]\n"
     ]
    }
   ],
   "source": [
    "n = int(input(\"Taille n de la liste : \"))\n",
    "v = [randint(-250,250) for j in range(n)]\n",
    "print(\"Liste initiale :\",\"\\n\",v)\n",
    "selec_tri(v)\n",
    "print(v)"
   ]
  },
  {
   "cell_type": "markdown",
   "metadata": {},
   "source": [
    "La complexité de cet algorithme de tri est de l'ordre $O(n^2)$."
   ]
  },
  {
   "cell_type": "markdown",
   "metadata": {},
   "source": [
    "# Tri rapide ou « *quick sort* »\n",
    "\n",
    "Le principe de ce tri-là est un peu plus astucieux. \n",
    "\n",
    "Dans le tri à bulle, on sélectionnait la plus grande valeur du tableau, on la mettait à part (à la fin), et on triait le reste. On réduisait donc la taille du problème de 1 à chaque fois.\n",
    "\n",
    "Ici, on va faire encore plus fort: on va couper la liste en deux parties, trier séparément les deux parties et tout recoller ensemble à la fin. Bien sûr, on ne va pas couper la liste au milieu comme des brutes."
   ]
  },
  {
   "cell_type": "code",
   "execution_count": 7,
   "metadata": {
    "collapsed": true
   },
   "outputs": [],
   "source": [
    "def quick_tri(v):\n",
    "    n = len(v)\n",
    "    if n>1:\n",
    "        piv = n//2 ## choix du pivot ; on prend ici le plus naïf, l'élément central de la liste.\n",
    "        vsmal,vbig = [],[]\n",
    "        for i,el in enumerate(v):\n",
    "            if i!=piv:\n",
    "                if el < v[piv]:\n",
    "                    vsmal.append(el)\n",
    "                else:\n",
    "                    vbig.append(el)\n",
    "        quick_tri(vsmal)\n",
    "        quick_tri(vbig)\n",
    "        v[:] = vsmal + [v[piv]] + vbig"
   ]
  },
  {
   "cell_type": "markdown",
   "metadata": {},
   "source": [
    "On peut donc l'essayer sur une liste au hasard, encore :"
   ]
  },
  {
   "cell_type": "code",
   "execution_count": 8,
   "metadata": {
    "collapsed": false
   },
   "outputs": [
    {
     "name": "stdout",
     "output_type": "stream",
     "text": [
      "Liste initiale : \n",
      " [46, -33, -34, -48, 25, 21, 6, -7, 12, -2, 26, 32, 15, -6, 35, 41, 14, 22, -37, -47, 38, 47, -13, -10, -29]\n",
      "Liste triée : \n",
      " [-48, -47, -37, -34, -33, -29, -13, -10, -7, -6, -2, 6, 12, 14, 15, 21, 22, 25, 26, 32, 35, 38, 41, 46, 47]\n"
     ]
    }
   ],
   "source": [
    "v = [randint(-50,50) for _ in range(25)]\n",
    "print(\"Liste initiale :\",\"\\n\",v)\n",
    "quick_tri(v)\n",
    "print(\"Liste triée :\",\"\\n\",v)"
   ]
  },
  {
   "cell_type": "markdown",
   "metadata": {},
   "source": [
    "** *Complexité* **\n",
    "\n",
    "La complexité de cet algorithme de tri dépend du choix du pivot. Avec un bon pivot, on peut faire en sorte de diviser par un facteur 2 la taille de la liste à chaque fois. Alors, on est amené à une complexité vérifiant la relation\n",
    "\n",
    "$$\n",
    "    C_n = 1 + 3 + \\sum_{k=1}^{n}O(1) + 2C_{\\left\\lfloor\\frac{n}{2}\\right\\rfloor} =  2C_{\\left\\lfloor\\frac{n}{2}\\right\\rfloor} + \\Theta(n)\n",
    "$$\n",
    "\n",
    "Ce type de relation de récurrence est quasiment impossible à résoudre dans le cas général ; cependant, un théorème important en analyse des algorithmes, nommé le *Master's theorem*, nous fournit le résultat: la complexité est quasi-linéaire. $$C_n = \\Theta(n\\log n) $$\n",
    "\n",
    "Maintenant, avec un pivot complètement naze (par exemple le plus grand élément de la liste), on sépare la liste en une liste comportant le pivot tout seul et une autre qui est donc de taille $n-1$... et on est ramené à un tri par sélection ! Donc **dans le pire des cas,** la complexité est en $O(n^2)$."
   ]
  }
 ],
 "metadata": {
  "anaconda-cloud": {},
  "celltoolbar": "Raw Cell Format",
  "kernelspec": {
   "display_name": "Python [default]",
   "language": "python",
   "name": "python3"
  },
  "language_info": {
   "codemirror_mode": {
    "name": "ipython",
    "version": 3
   },
   "file_extension": ".py",
   "mimetype": "text/x-python",
   "name": "python",
   "nbconvert_exporter": "python",
   "pygments_lexer": "ipython3",
   "version": "3.5.2"
  }
 },
 "nbformat": 4,
 "nbformat_minor": 1
}
