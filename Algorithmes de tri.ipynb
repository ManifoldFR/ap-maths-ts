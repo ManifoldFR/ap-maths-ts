{
 "cells": [
  {
   "cell_type": "markdown",
   "metadata": {},
   "source": [
    "# Introduction\n",
    "\n",
    "Un des éléments de base de l'algorithmique -- et donc de la programmation -- est l'étude et l'utilisation d'algorithmes de tri.\n",
    "\n",
    "Dans toute la suite, on considère une liste de taille `n` *strictement positive.*\n",
    "\n",
    "On utilisera le fonction `randint` du module `random` afin de générer des listes aléatoires :"
   ]
  },
  {
   "cell_type": "code",
   "execution_count": 1,
   "metadata": {
    "collapsed": true
   },
   "outputs": [],
   "source": [
    "from random import randint"
   ]
  },
  {
   "cell_type": "markdown",
   "metadata": {},
   "source": [
    "# Tri par sélection\n",
    "\n",
    "Le principe est le suivant : on parcourt la liste une première fois en entier, en sélectionnant son plus grand élément pour l'échanger avec son dernier élément. Ainsi, à la fin du premier passage, la liste a son plus grand élément à la fin.\n",
    "\n",
    "Ensuite, on itère le procédé sur la liste composée des $n-1$ premiers éléments de la liste initiale, et on recommence... forcément, on tombe à un moment sur la liste composé uniquement du premier élément de la liste, et on s'arrête là."
   ]
  },
  {
   "cell_type": "code",
   "execution_count": 6,
   "metadata": {
    "collapsed": true
   },
   "outputs": [],
   "source": [
    "def selec_tri(v):\n",
    "    n = len(v)\n",
    "    if n>1:\n",
    "        i_max = 0\n",
    "        for i in range(n):\n",
    "            if v[i]>v[i_max]:\n",
    "                i_max = i\n",
    "        v[-1],v[i_max] = v[i_max],v[-1]\n",
    "        l = v[:-1] ## permet d'éviter les problèmes d'adressage des listes en Python\n",
    "        selec_tri(l) ## on trie la liste des n-1 premiers éléments\n",
    "        v[:-1] = l ## on remplace les n-1 premiers éléments par leur liste triée"
   ]
  },
  {
   "cell_type": "markdown",
   "metadata": {},
   "source": [
    "On peut donc essayer notre fonction `selec_tri` sur une liste générée au hasard : exécutez plusieurs fois la cellule suivante pour générer une liste aléatoire de 25 nombres entre -50 et 50, l'afficher, et la trier."
   ]
  },
  {
   "cell_type": "code",
   "execution_count": 3,
   "metadata": {
    "collapsed": false
   },
   "outputs": [
    {
     "name": "stdout",
     "output_type": "stream",
     "text": [
      "Taille n de la liste :200\n",
      "Liste initiale : \n",
      " [32, -42, -15, 42, 38, -27, -24, -38, 49, -15, 22, 34, 7, 4, 34, 13, 49, 36, 38, 42, -24, -4, -2, -45, -43, 1, 11, 10, -16, 5, -23, -33, -11, -34, 34, 43, -45, -6, 14, 43, -1, -20, 10, -4, -43, -23, -31, -34, 0, 20, 35, -30, -6, 12, -32, -40, -28, -35, 1, -11, 13, -37, -41, -41, 15, -43, -42, 46, -28, -39, -33, -44, -41, -27, -14, -33, 25, 41, 50, -47, -18, -23, -20, 18, 43, -38, -35, 15, 8, 20, -4, 4, 49, 32, 2, 14, -21, 36, 11, -5]\n",
      "Liste triée : \n",
      " [-47, -45, -45, -44, -43, -43, -43, -42, -42, -41, -41, -41, -40, -39, -38, -38, -37, -35, -35, -34, -34, -33, -33, -33, -32, -31, -30, -28, -28, -27, -27, -24, -24, -23, -23, -23, -21, -20, -20, -18, -16, -15, -15, -14, -11, -11, -6, -6, -5, -4, -4, -4, -2, -1, 0, 1, 1, 2, 4, 4, 5, 7, 8, 10, 10, 11, 11, 12, 13, 13, 14, 14, 15, 15, 18, 20, 20, 22, 25, 32, 32, 34, 34, 34, 35, 36, 36, 38, 38, 41, 42, 42, 43, 43, 43, 46, 49, 49, 49, 50]\n"
     ]
    }
   ],
   "source": [
    "n = int(input(\"Taille n de la liste :\"))\n",
    "v = [randint(-50,50) for _ in range(100)]\n",
    "print(\"Liste initiale :\",\"\\n\",v)\n",
    "selec_tri(v)\n",
    "print(\"Liste triée :\",\"\\n\",v)"
   ]
  },
  {
   "cell_type": "markdown",
   "metadata": {},
   "source": [
    "La complexité de cet algorithme de tri est de l'ordre $O(n^2)$."
   ]
  },
  {
   "cell_type": "markdown",
   "metadata": {},
   "source": [
    "# Tri rapide ou « *quick sort* »\n",
    "\n",
    "Le principe de ce tri-là est un peu plus astucieux. \n",
    "\n",
    "Dans le tri à bulle, on sélectionnait la plus grande valeur du tableau, on la mettait à part (à la fin), et on triait le reste. On réduisait donc la taille du problème de 1 à chaque fois.\n",
    "\n",
    "Ici, on va faire encore plus fort: on va couper la liste en deux parties, trier séparément les deux parties et tout recoller ensemble à la fin. Bien sûr, on ne va pas couper la liste au milieu comme des brutes."
   ]
  },
  {
   "cell_type": "code",
   "execution_count": 4,
   "metadata": {
    "collapsed": true
   },
   "outputs": [],
   "source": [
    "def quick_tri(v):\n",
    "    n = len(v)\n",
    "    if n>1:\n",
    "        piv = n//2 ## choix du pivot ; on prend ici le plus naïf, l'élément central de la liste.\n",
    "        vsmal,vbig = [],[]\n",
    "        for i,el in enumerate(v):\n",
    "            if i!=piv:\n",
    "                if el < v[piv]:\n",
    "                    vsmal.append(el)\n",
    "                else:\n",
    "                    vbig.append(el)\n",
    "        quick_tri(vsmal)\n",
    "        quick_tri(vbig)\n",
    "        v[:] = vsmal + [v[piv]] + vbig"
   ]
  },
  {
   "cell_type": "markdown",
   "metadata": {},
   "source": [
    "On peut donc l'essayer sur une liste au hasard, encore :"
   ]
  },
  {
   "cell_type": "code",
   "execution_count": 5,
   "metadata": {
    "collapsed": false
   },
   "outputs": [
    {
     "name": "stdout",
     "output_type": "stream",
     "text": [
      "Liste initiale : \n",
      " [6, 8, 24, -7, -23, -45, 43, -1, 0, 19, 25, -26, -15, 16, -41, 43, -15, 16, 16, -18, 41, -34, 7, -25, 19]\n",
      "Liste triée : \n",
      " [-45, -41, -34, -26, -25, -23, -18, -15, -15, -7, -1, 0, 6, 7, 8, 16, 16, 16, 19, 19, 24, 25, 41, 43, 43]\n"
     ]
    }
   ],
   "source": [
    "v = [randint(-50,50) for _ in range(25)]\n",
    "print(\"Liste initiale :\",\"\\n\",v)\n",
    "quick_tri(v)\n",
    "print(\"Liste triée :\",\"\\n\",v)"
   ]
  },
  {
   "cell_type": "markdown",
   "metadata": {},
   "source": [
    "** *Complexité* **\n",
    "\n",
    "La complexité de cet algorithme de tri dépend du choix du pivot. Avec un bon pivot, on peut faire en sorte de diviser par un facteur 2 la taille de la liste à chaque fois. Alors, on est amené à une complexité vérifiant la relation\n",
    "$$\n",
    "    C_n = 1 + 3 + \\sum_{k=1}^{n}O(1) + 2C_{\\left\\lfloor\\frac{n}{2}\\right\\rfloor} =  2C_{\\left\\lfloor\\frac{n}{2}\\right\\rfloor} + O(n)\n",
    "$$\n",
    "\n",
    "Ce type de relation de récurrence est quasiment impossible à résoudre dans le cas général ; cependant, un théorème important en analyse des algorithmes, nommé le *Master's theorem*, nous fournit le résultat: la complexité est quasi-linéaire. $$C_n = \\Theta(n\\log n) $$\n",
    "\n",
    "Maintenant, avec un pivot complètement naze (par exemple le plus grand élément de la liste), on sépare la liste en une liste comportant le pivot tout seul et une autre qui est donc de taille $n-1$... et on est ramené à un tri par sélection ! Donc **dans le pire des cas,** la complexité est en $O(n^2)$."
   ]
  }
 ],
 "metadata": {
  "anaconda-cloud": {},
  "celltoolbar": "Raw Cell Format",
  "kernelspec": {
   "display_name": "Python [default]",
   "language": "python",
   "name": "python3"
  },
  "language_info": {
   "codemirror_mode": {
    "name": "ipython",
    "version": 3
   },
   "file_extension": ".py",
   "mimetype": "text/x-python",
   "name": "python",
   "nbconvert_exporter": "python",
   "pygments_lexer": "ipython3",
   "version": "3.5.2"
  }
 },
 "nbformat": 4,
 "nbformat_minor": 1
}
